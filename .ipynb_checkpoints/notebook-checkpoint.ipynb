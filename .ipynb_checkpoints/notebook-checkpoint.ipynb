{
 "cells": [
  {
   "cell_type": "code",
   "execution_count": null,
   "metadata": {},
   "outputs": [],
   "source": [
    "# from helper import *"
   ]
  },
  {
   "cell_type": "code",
   "execution_count": 4,
   "metadata": {},
   "outputs": [],
   "source": [
    "from time import sleep\n",
    "from IPython.display import clear_output\n",
    "import sys\n",
    "\n",
    "try:\n",
    "    import pandas as pd\n",
    "except ImportError as e:\n",
    "    pass  # module doesn't exist, deal with it.\n",
    "\n",
    "try:\n",
    "    import matplotlib as plt\n",
    "except ImportError as e:\n",
    "    pass  # module doesn't exist, deal with it.\n",
    "\n",
    "try:\n",
    "    import bokeh\n",
    "except ImportError as e:\n",
    "    pass  # module doesn't exist, deal with it.\n",
    "\n",
    "\n",
    "def five_dots(sec):\n",
    "    elipsis = '.....'\n",
    "    for dot in elipsis:\n",
    "        sleep(sec/len(elipsis))\n",
    "        print(dot, end = '')\n",
    "\n",
    "def check_dependency_prompt(dependency_list):\n",
    "    yn = ''\n",
    "    \n",
    "    print(\"Greetings! I can help you install or update the dependencies for this notebook!\")\n",
    "    \n",
    "    while yn.lower() not in ['yes', 'no']:\n",
    "        clear_output()\n",
    "        yn = input(\"Do you want to check dependencies for updates? \")\n",
    "    \n",
    "    if yn.lower() == 'yes':\n",
    "        clear_output()\n",
    "        print(\"Great! Let's get started\", end='')\n",
    "        five_dots(1)\n",
    "        check_dependencies(dependency_list)\n",
    "#         clear_output()\n",
    "        \n",
    "    elif yn.lower() == 'no':\n",
    "        clear_output()\n",
    "        print(\"Okay, attempting to import dependencies\", end='')\n",
    "        five_dots(1)\n",
    "        \n",
    "        \n",
    "def check_dependencies(list_of_dependencies):\n",
    "    dependency_summary = []\n",
    "    for library in list_of_dependencies:\n",
    "        clear_output()\n",
    "        print('Checking ' + library, end = '')\n",
    "        five_dots(1)\n",
    "        clear_output()\n",
    "        \n",
    "        if library in sys.modules:\n",
    "#             print(library + \" is ready to use\")\n",
    "            dependency_summary.append(library + \" is ready to use\")\n",
    "        elif library not in sys.modules:\n",
    "#             print(library + \" is NOT ready to use\")\n",
    "            dependency_summary.append(library + \" is NOT ready to use\")\n",
    "    for item in dependency_summary:\n",
    "        print(item)"
   ]
  },
  {
   "cell_type": "code",
   "execution_count": 5,
   "metadata": {},
   "outputs": [],
   "source": [
    "dependencies = ['pandas', 'sqlite3', 'bokeh', 'matplotlib']"
   ]
  },
  {
   "cell_type": "code",
   "execution_count": 6,
   "metadata": {},
   "outputs": [
    {
     "name": "stdout",
     "output_type": "stream",
     "text": [
      "pandas is ready to use\n",
      "sqlite3 is ready to use\n",
      "bokeh is ready to use\n",
      "matplotlib is ready to use\n"
     ]
    }
   ],
   "source": [
    "check_dependency_prompt(dependencies)"
   ]
  },
  {
   "cell_type": "code",
   "execution_count": null,
   "metadata": {},
   "outputs": [],
   "source": []
  }
 ],
 "metadata": {
  "kernelspec": {
   "display_name": "Python 3",
   "language": "python",
   "name": "python3"
  },
  "language_info": {
   "codemirror_mode": {
    "name": "ipython",
    "version": 3
   },
   "file_extension": ".py",
   "mimetype": "text/x-python",
   "name": "python",
   "nbconvert_exporter": "python",
   "pygments_lexer": "ipython3",
   "version": "3.7.4"
  }
 },
 "nbformat": 4,
 "nbformat_minor": 4
}
