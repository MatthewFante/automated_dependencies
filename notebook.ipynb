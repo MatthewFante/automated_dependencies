{
 "cells": [
  {
   "cell_type": "code",
   "execution_count": 1,
   "metadata": {},
   "outputs": [],
   "source": [
    "from helper import *"
   ]
  },
  {
   "cell_type": "code",
   "execution_count": 2,
   "metadata": {},
   "outputs": [],
   "source": [
    "from time import sleep\n",
    "from IPython.display import clear_output\n",
    "import sys\n",
    "\n",
    "try:\n",
    "    import pandas as pd\n",
    "except ImportError as e:\n",
    "    pass  # module doesn't exist, deal with it.\n",
    "\n",
    "try:\n",
    "    import matplotlib as plt\n",
    "except ImportError as e:\n",
    "    pass  # module doesn't exist, deal with it.\n",
    "\n",
    "try:\n",
    "    import bokeh\n",
    "except ImportError as e:\n",
    "    pass  # module doesn't exist, deal with it."
   ]
  },
  {
   "cell_type": "code",
   "execution_count": 3,
   "metadata": {},
   "outputs": [],
   "source": [
    "dependencies = ['pandas', 'sqlite3', 'bokeh', 'matplotlib']"
   ]
  },
  {
   "cell_type": "code",
   "execution_count": 4,
   "metadata": {},
   "outputs": [
    {
     "name": "stdout",
     "output_type": "stream",
     "text": [
      "Okay, attempting to import dependencies....."
     ]
    }
   ],
   "source": [
    "check_dependency_prompt(dependencies)"
   ]
  },
  {
   "cell_type": "code",
   "execution_count": 6,
   "metadata": {},
   "outputs": [
    {
     "name": "stdout",
     "output_type": "stream",
     "text": [
      "SUCCESS! Dependencies are ready to use!\n"
     ]
    }
   ],
   "source": [
    "print(\"Checking pandas\")\n",
    "!conda install --yes --prefix {sys.prefix} pandas\n",
    "\n",
    "!conda install --yes --prefix {sys.prefix} sqlite3\n",
    "\n",
    "!conda install --yes --prefix {sys.prefix} matplotlib\n",
    "\n",
    "!conda install --yes --prefix {sys.prefix} bokeh"
   ]
  },
  {
   "cell_type": "code",
   "execution_count": null,
   "metadata": {},
   "outputs": [],
   "source": []
  }
 ],
 "metadata": {
  "kernelspec": {
   "display_name": "Python 3",
   "language": "python",
   "name": "python3"
  },
  "language_info": {
   "codemirror_mode": {
    "name": "ipython",
    "version": 3
   },
   "file_extension": ".py",
   "mimetype": "text/x-python",
   "name": "python",
   "nbconvert_exporter": "python",
   "pygments_lexer": "ipython3",
   "version": "3.7.4"
  }
 },
 "nbformat": 4,
 "nbformat_minor": 4
}
